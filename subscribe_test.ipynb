{
 "cells": [
  {
   "cell_type": "code",
   "execution_count": 4,
   "metadata": {},
   "outputs": [
    {
     "name": "stderr",
     "output_type": "stream",
     "text": [
      "2019-07-31 21:10:56,402 [open_context_base.py] _socket_reconnect_and_wait_ready:256: Start connecting: host=futuapi.mkmerich.com; port=54012;\n",
      "2019-07-31 21:10:56,419 [open_context_base.py] on_connected:344: Connected : conn_id=1; \n",
      "2019-07-31 21:10:56,441 [open_context_base.py] _handle_init_connect:444: InitConnect ok: conn_id=1; info={'server_version': 203, 'login_user_id': 1509176, 'conn_id': 6562318516974470593, 'conn_key': 'A0E5062BEC09125B', 'keep_alive_interval': 10, 'is_encrypt': False};\n"
     ]
    },
    {
     "name": "stdout",
     "output_type": "stream",
     "text": [
      "CurKlineTest\n",
      "         code             time_key   open  close   high   low  volume  \\\n",
      "0  SH.601127  2019-07-31 15:00:00  12.73  12.75  12.75  12.7   64200   \n",
      "\n",
      "   turnover k_type  \n",
      "0  816872.0  K_15M  \n"
     ]
    }
   ],
   "source": [
    "import time\n",
    "from futu import *\n",
    "\n",
    "class CurKlineTest(CurKlineHandlerBase):\n",
    "    def on_recv_rsp(self, rsp_str):\n",
    "        ret_code, data = super(CurKlineTest,self).on_recv_rsp(rsp_str)\n",
    "        if ret_code != RET_OK:\n",
    "            print(\"CurKlineTest: error, msg: %s\" % data)\n",
    "            return RET_ERROR, data\n",
    "\n",
    "        print(\"CurKlineTest\\n\", data) # CurKlineTest自己的处理逻辑\n",
    "\n",
    "        return RET_OK, data\n",
    "\n",
    "quote_ctx = OpenQuoteContext(host='futuapi.mkmerich.com', port=54012)\n",
    "handler = CurKlineTest()\n",
    "quote_ctx.set_handler(handler)\n",
    "quote_ctx.subscribe(['SH.601127'], [SubType.K_15M])\n",
    "time.sleep(15)\n",
    "quote_ctx.close()"
   ]
  }
 ],
 "metadata": {
  "kernelspec": {
   "display_name": "Python 3",
   "language": "python",
   "name": "python3"
  },
  "language_info": {
   "codemirror_mode": {
    "name": "ipython",
    "version": 3
   },
   "file_extension": ".py",
   "mimetype": "text/x-python",
   "name": "python",
   "nbconvert_exporter": "python",
   "pygments_lexer": "ipython3",
   "version": "3.7.0b4"
  }
 },
 "nbformat": 4,
 "nbformat_minor": 2
}
