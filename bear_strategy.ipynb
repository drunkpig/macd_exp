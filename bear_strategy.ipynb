{
 "cells": [
  {
   "cell_type": "code",
   "execution_count": 3,
   "metadata": {
    "scrolled": false
   },
   "outputs": [
    {
     "name": "stdout",
     "output_type": "stream",
     "text": [
      "===================================\n",
      "3\t11\n",
      "29\t40\n",
      "53\t64\n",
      "72\t82\n",
      "96\t112\n",
      "133\t143\n",
      "148\t164\n",
      "179\t192\n",
      "196\t203\n",
      "209\t220\n",
      "227\t236\n",
      "271\t290\n",
      "311\t333\n",
      "339\t360\n",
      "366\t388\n",
      "395\t407\n",
      "444\t450\n",
      "460\t469\n",
      "485\t491\n",
      "500\t520\n",
      "564\t581\n",
      "584\t590\n",
      "615\t629\n"
     ]
    }
   ],
   "source": [
    "import pandas as pd\n",
    "from macdlib import *\n",
    "\n",
    "\n",
    "STOCK_CODE='600125.SH'\n",
    "df = pd.read_csv(f'./data/{STOCK_CODE}.csv')\n",
    "\n",
    "df.rename(columns={df.columns[0]:\"date\"}, inplace=True)\n",
    "diff, dem ,bar = macd(df)\n",
    "df['bar']=bar\n",
    "df['ma5']=ma(df, 5)\n",
    "df['ma10']=ma(df,10)\n",
    "df['ma20']=ma(df,20)\n",
    "\n",
    "df.to_csv(f\"./data/temp/{STOCK_CODE}_macd.csv\")\n",
    "\n",
    "\n",
    "blue_bar_width = 6  # 绿柱子多少个才考虑买入\n",
    "\n",
    "\n",
    "\n",
    "# i = 0\n",
    "# print(f\"index size= {bar.index.size}\")\n",
    "\n",
    "print(\"===================================\")\n",
    "_, blue_bar = find_successive_bar_area(df)\n",
    "buy_dates = []\n",
    "MIN_BLUE_AREA_WIDTH=6\n",
    "\n",
    "for s, e in blue_bar:\n",
    "    #print(f\"{s}\\t{e}\")\n",
    "    if e-s < MIN_BLUE_AREA_WIDTH:\n",
    "        continue\n",
    "    else:#把hi值，close取出来\n",
    "        print(f\"{s}\\t{e}\")\n",
    "        df2 = df.loc[s:e, ['bar']]\n",
    "        row_index = df[df.bar==df2.bar.min()].index[0]\n",
    "        row = df.loc[row_index:row_index, ['date','close','open']]\n",
    "        buy_row = df.loc[row_index+2:row_index+2, ['date','close','open']]\n",
    "        #print(buy_row['date'].values[0])\n",
    "        buy_dates.append(buy_row['date'].values[0])\n",
    "        "
   ]
  },
  {
   "cell_type": "code",
   "execution_count": null,
   "metadata": {},
   "outputs": [],
   "source": [
    "df"
   ]
  },
  {
   "cell_type": "code",
   "execution_count": 4,
   "metadata": {},
   "outputs": [
    {
     "data": {
      "text/plain": [
       "[(0, 0),\n",
       " (3, 11),\n",
       " (29, 40),\n",
       " (53, 64),\n",
       " (72, 82),\n",
       " (96, 112),\n",
       " (133, 143),\n",
       " (148, 164),\n",
       " (179, 192),\n",
       " (196, 203),\n",
       " (209, 220),\n",
       " (227, 236),\n",
       " (260, 260),\n",
       " (271, 290),\n",
       " (311, 333),\n",
       " (339, 360),\n",
       " (366, 388),\n",
       " (395, 407),\n",
       " (444, 450),\n",
       " (460, 469),\n",
       " (485, 491),\n",
       " (500, 520),\n",
       " (564, 581),\n",
       " (584, 590),\n",
       " (604, 605),\n",
       " (610, 612),\n",
       " (615, 629),\n",
       " (633, 636)]"
      ]
     },
     "execution_count": 4,
     "metadata": {},
     "output_type": "execute_result"
    }
   ],
   "source": [
    "_, blues = find_successive_bar_area(df)\n",
    "blues"
   ]
  },
  {
   "cell_type": "code",
   "execution_count": null,
   "metadata": {},
   "outputs": [],
   "source": [
    "index = df[df['bar']<0].index.array\n",
    "\n",
    "from itertools import groupby\n",
    "from operator import itemgetter\n",
    "data = index # [ 1, 4,5,6, 10, 15,16,17,18, 22, 25,26,27,28]\n",
    "for k, g in groupby(enumerate(data), lambda iv: iv[0]-iv[1]):\n",
    "    x = list(map(itemgetter(1), g))\n",
    "    print(x)\n",
    "    \n",
    "index"
   ]
  },
  {
   "cell_type": "code",
   "execution_count": null,
   "metadata": {},
   "outputs": [],
   "source": [
    "# blue_bar\n",
    "# blue_bar_2 = []\n",
    "# for a,b in blue_bar:\n",
    "#     if b-a <MIN_BLUE_AREA_WIDTH:\n",
    "#         continue\n",
    "#     else:\n",
    "#         blue_bar_2.append((a,b))\n",
    "        \n",
    "# blue_bar_2"
   ]
  },
  {
   "cell_type": "code",
   "execution_count": null,
   "metadata": {
    "scrolled": false
   },
   "outputs": [],
   "source": [
    "import matplotlib.pyplot as plt\n",
    "%matplotlib inline\n",
    "# fig, ax = plt.subplots(1,1, figsize=(20, 7))\n",
    "# ax.stem(df[90:108].date, df[90:108].bar, use_line_collection=True)\n",
    "# ax.xaxis.set_tick_params(rotation=45)\n",
    "\n",
    "# for s, e in blue_bar_2:\n",
    "#     #print(f\"{s}\\t{e}\")\n",
    "#     start_i = s-1\n",
    "#     if start_i<0:\n",
    "#         start_i = 0\n",
    "#     end_i = e+2\n",
    "    \n",
    "#     start_dt = df[start_i:start_i+1].date.values[0]\n",
    "#     end_dt = df[end_i:end_i+1].date.values[0]\n",
    "#     fig, ax = plt.subplots(1,1, figsize=(20, 7))\n",
    "#     ax.stem(df[start_i:end_i].date, df[start_i:end_i].bar, use_line_collection=True)\n",
    "#     ax.xaxis.set_tick_params(rotation=45)\n",
    "#     ax.set_title(f\"{start_i}-{end_i}, {start_dt}-{end_dt}\")\n",
    "    "
   ]
  },
  {
   "cell_type": "code",
   "execution_count": null,
   "metadata": {},
   "outputs": [],
   "source": [
    "df[92:103].date\n",
    "df[df.date=='2019-01-04 11:00:00']"
   ]
  },
  {
   "cell_type": "code",
   "execution_count": null,
   "metadata": {
    "scrolled": false
   },
   "outputs": [],
   "source": [
    "## 统计一下这几个时间点进入之后，后面16个周期内最高点超过2%的\n",
    "\n",
    "#先找处后面16周期最低、最高、当前open, close\n",
    "# for s, e in blue_bar_2:\n",
    "#     #print(f\"{s}\\t{e}\")\n",
    "#     start_i = max(0, s-1)\n",
    "#     end_i = min(e+2, df.size)\n",
    "    \n",
    "#     start_dt = df[start_i:start_i+1].date.values[0]\n",
    "#     end_dt = df[end_i:end_i+1].date.values[0]\n",
    "    \n",
    "tj_df = pd.DataFrame()\n",
    "\n",
    "for date in buy_dates:\n",
    "    #print(date)\n",
    "    start_i = df[df.date==date].index[0]\n",
    "    end_i = min(start_i+4*4, df.size)\n",
    "    # 计算区间内的最大，最小值\n",
    "    low = df[start_i:start_i+4].low.min()\n",
    "    low_date = df[start_i:start_i+4][df.low==low].date.values[0]\n",
    "    \n",
    "    # 从low_date 到end_i\n",
    "    low_date_i = df[df.date==low_date].index[0]\n",
    "    \n",
    "    hi = df[low_date_i:end_i].high.max() #一定是从最小值之后才有机会找最大的\n",
    "    hi_date = df[low_date_i:end_i][df.high==hi].date.values[0]\n",
    "    \n",
    "    \n",
    "    cur_open = df[df.date==date].open.values[0]\n",
    "    cur_low = df[df.date==date].low.values[0]\n",
    "    \n",
    "    buy_limit_price=cur_open*0.99   #向下挂个1%\n",
    "    s = pd.DataFrame({\"date\":[date],\"cur_open\":cur_open,\"cur_low\":cur_low, \"limit_buy_price\":buy_limit_price,  \"low\":[low], \"hi\":[hi], \"chg_pct\":[round((hi-low)/low*100,3)], \"low_date\":[low_date], \"hi_date\":[hi_date]})\n",
    "    tj_df= pd.concat([tj_df, s])\n",
    "    \n",
    "from datetime import datetime\n",
    "\n",
    "tj_df['buy'] = tj_df.chg_pct.apply(lambda x: '✓' if x>=2 else \"×\")\n",
    "\n",
    "# tj_df['real_low_date_delta'] = tj_df.low_date.apply(lambda x: datetime.strptime(x, \"%Y-%m-%d %H:%M:%S\"))-tj_df.date.apply(lambda x: datetime.strptime(x, \"%Y-%m-%d %H:%M:%S\"))\n",
    "# tj_df['real_low_date_delta'] = tj_df.real_low_date_delta.apply(lambda x: x.seconds/3600)\n",
    "\n",
    "tj_df['buy_price.9'] = tj_df[['low', 'limit_buy_price']].max(axis=1)\n",
    "tj_df['e_earn_9'] = (tj_df['hi']-tj_df['buy_price.9'])/tj_df['buy_price.9']*100\n",
    "\n",
    "tj_df['e_earn']=(tj_df['hi']-tj_df['cur_open'])/tj_df['cur_open']*100\n",
    "tj_df.reset_index(drop=True)\n"
   ]
  },
  {
   "cell_type": "code",
   "execution_count": null,
   "metadata": {
    "scrolled": false
   },
   "outputs": [],
   "source": [
    "st_df = pd.DataFrame({\n",
    "    \"e=1%\":[tj_df[tj_df.chg_pct>=1].size/tj_df.size],\n",
    "    \"e=1.5%\":[tj_df[tj_df.chg_pct>=1.5].size/tj_df.size],\n",
    "    \"e=2%\":[tj_df[tj_df.chg_pct>=2].size/tj_df.size],\n",
    "    \"e=3%\":[tj_df[tj_df.chg_pct>=3].size/tj_df.size],\n",
    "})\n",
    "\n",
    "st_df"
   ]
  }
 ],
 "metadata": {
  "kernelspec": {
   "display_name": "Python 3",
   "language": "python",
   "name": "python3"
  },
  "language_info": {
   "codemirror_mode": {
    "name": "ipython",
    "version": 3
   },
   "file_extension": ".py",
   "mimetype": "text/x-python",
   "name": "python",
   "nbconvert_exporter": "python",
   "pygments_lexer": "ipython3",
   "version": "3.7.0b4"
  }
 },
 "nbformat": 4,
 "nbformat_minor": 2
}
