{
 "cells": [
  {
   "cell_type": "code",
   "execution_count": 2,
   "metadata": {},
   "outputs": [],
   "source": [
    "from WindPy import *\n",
    "import pandas as pd\n",
    "\n",
    "w.start()\n",
    "_, df = w.wsi('601127.SH','close, high,open', '20190101', '20190710', options=\"BarSize=60,PriceAdj=F\", usedf=True)\n",
    "df\n",
    "df.to_csv(\"601127.csv\")\n"
   ]
  }
 ],
 "metadata": {
  "kernelspec": {
   "display_name": "Python 3",
   "language": "python",
   "name": "python3"
  },
  "language_info": {
   "codemirror_mode": {
    "name": "ipython",
    "version": 3
   },
   "file_extension": ".py",
   "mimetype": "text/x-python",
   "name": "python",
   "nbconvert_exporter": "python",
   "pygments_lexer": "ipython3",
   "version": "3.7.2"
  }
 },
 "nbformat": 4,
 "nbformat_minor": 2
}
