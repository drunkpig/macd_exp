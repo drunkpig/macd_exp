{
 "cells": [
  {
   "cell_type": "code",
   "execution_count": 1,
   "metadata": {},
   "outputs": [],
   "source": [
    "import numpy as np\n",
    "import pandas as pd\n",
    "\n",
    "# Visualisation\n",
    "import matplotlib as mpl\n",
    "import matplotlib.pyplot as plt\n",
    "import matplotlib.pylab as pylab\n",
    "\n",
    "# Configure visualisations\n",
    "%matplotlib inline\n",
    "mpl.style.use( 'ggplot' )"
   ]
  },
  {
   "cell_type": "code",
   "execution_count": 3,
   "metadata": {},
   "outputs": [
    {
     "data": {
      "text/html": [
       "<div>\n",
       "<style scoped>\n",
       "    .dataframe tbody tr th:only-of-type {\n",
       "        vertical-align: middle;\n",
       "    }\n",
       "\n",
       "    .dataframe tbody tr th {\n",
       "        vertical-align: top;\n",
       "    }\n",
       "\n",
       "    .dataframe thead th {\n",
       "        text-align: right;\n",
       "    }\n",
       "</style>\n",
       "<table border=\"1\" class=\"dataframe\">\n",
       "  <thead>\n",
       "    <tr style=\"text-align: right;\">\n",
       "      <th></th>\n",
       "      <th>id</th>\n",
       "      <th>stock_code</th>\n",
       "      <th>trade_time</th>\n",
       "      <th>_trade_time</th>\n",
       "      <th>open_price</th>\n",
       "      <th>high_price</th>\n",
       "      <th>low_price</th>\n",
       "      <th>close_price</th>\n",
       "      <th>vol</th>\n",
       "      <th>amount</th>\n",
       "      <th>period</th>\n",
       "      <th>gmt_modified</th>\n",
       "      <th>gmt_created</th>\n",
       "    </tr>\n",
       "  </thead>\n",
       "  <tbody>\n",
       "    <tr>\n",
       "      <th>0</th>\n",
       "      <td>2</td>\n",
       "      <td>600127.SH</td>\n",
       "      <td>2019-06-28 14:00:00</td>\n",
       "      <td>2019-06-28 14:00:00+08</td>\n",
       "      <td>4.98</td>\n",
       "      <td>4.99</td>\n",
       "      <td>4.91</td>\n",
       "      <td>4.93</td>\n",
       "      <td>3073500</td>\n",
       "      <td>15170306.0</td>\n",
       "      <td>60min\\n</td>\n",
       "      <td>2019-07-01 15:02:48.366814+08</td>\n",
       "      <td>2019-07-01 14:33:00.281192+08</td>\n",
       "    </tr>\n",
       "    <tr>\n",
       "      <th>1</th>\n",
       "      <td>3</td>\n",
       "      <td>600127.SH</td>\n",
       "      <td>2019-06-28 11:30:00</td>\n",
       "      <td>2019-06-28 11:30:00+08</td>\n",
       "      <td>5.04</td>\n",
       "      <td>5.05</td>\n",
       "      <td>4.87</td>\n",
       "      <td>4.98</td>\n",
       "      <td>12618212</td>\n",
       "      <td>62498266.0</td>\n",
       "      <td>60min\\n</td>\n",
       "      <td>2019-07-01 15:02:48.369289+08</td>\n",
       "      <td>2019-07-01 14:33:01.384544+08</td>\n",
       "    </tr>\n",
       "    <tr>\n",
       "      <th>2</th>\n",
       "      <td>4</td>\n",
       "      <td>600127.SH</td>\n",
       "      <td>2019-06-28 10:30:00</td>\n",
       "      <td>2019-06-28 10:30:00+08</td>\n",
       "      <td>5.12</td>\n",
       "      <td>5.15</td>\n",
       "      <td>5.03</td>\n",
       "      <td>5.04</td>\n",
       "      <td>11094400</td>\n",
       "      <td>56380406.0</td>\n",
       "      <td>60min\\n</td>\n",
       "      <td>2019-07-01 15:02:48.37183+08</td>\n",
       "      <td>2019-07-01 14:33:02.158104+08</td>\n",
       "    </tr>\n",
       "    <tr>\n",
       "      <th>3</th>\n",
       "      <td>5</td>\n",
       "      <td>600127.SH</td>\n",
       "      <td>2019-06-28 09:30:00</td>\n",
       "      <td>2019-06-28 09:30:00+08</td>\n",
       "      <td>5.13</td>\n",
       "      <td>5.13</td>\n",
       "      <td>5.13</td>\n",
       "      <td>5.13</td>\n",
       "      <td>19300</td>\n",
       "      <td>99009.0</td>\n",
       "      <td>60min\\n</td>\n",
       "      <td>2019-07-01 15:02:48.374339+08</td>\n",
       "      <td>2019-07-01 14:33:03.356418+08</td>\n",
       "    </tr>\n",
       "    <tr>\n",
       "      <th>4</th>\n",
       "      <td>6</td>\n",
       "      <td>600127.SH</td>\n",
       "      <td>2019-06-27 15:00:00</td>\n",
       "      <td>2019-06-27 15:00:00+08</td>\n",
       "      <td>5.13</td>\n",
       "      <td>5.15</td>\n",
       "      <td>5.11</td>\n",
       "      <td>5.13</td>\n",
       "      <td>8988356</td>\n",
       "      <td>46080060.0</td>\n",
       "      <td>60min\\n</td>\n",
       "      <td>2019-07-01 15:02:48.376721+08</td>\n",
       "      <td>2019-07-01 14:33:03.80116+08</td>\n",
       "    </tr>\n",
       "  </tbody>\n",
       "</table>\n",
       "</div>"
      ],
      "text/plain": [
       "   id stock_code           trade_time             _trade_time  open_price  \\\n",
       "0   2  600127.SH  2019-06-28 14:00:00  2019-06-28 14:00:00+08        4.98   \n",
       "1   3  600127.SH  2019-06-28 11:30:00  2019-06-28 11:30:00+08        5.04   \n",
       "2   4  600127.SH  2019-06-28 10:30:00  2019-06-28 10:30:00+08        5.12   \n",
       "3   5  600127.SH  2019-06-28 09:30:00  2019-06-28 09:30:00+08        5.13   \n",
       "4   6  600127.SH  2019-06-27 15:00:00  2019-06-27 15:00:00+08        5.13   \n",
       "\n",
       "   high_price  low_price  close_price       vol      amount   period  \\\n",
       "0        4.99       4.91         4.93   3073500  15170306.0  60min\\n   \n",
       "1        5.05       4.87         4.98  12618212  62498266.0  60min\\n   \n",
       "2        5.15       5.03         5.04  11094400  56380406.0  60min\\n   \n",
       "3        5.13       5.13         5.13     19300     99009.0  60min\\n   \n",
       "4        5.15       5.11         5.13   8988356  46080060.0  60min\\n   \n",
       "\n",
       "                    gmt_modified                    gmt_created  \n",
       "0  2019-07-01 15:02:48.366814+08  2019-07-01 14:33:00.281192+08  \n",
       "1  2019-07-01 15:02:48.369289+08  2019-07-01 14:33:01.384544+08  \n",
       "2   2019-07-01 15:02:48.37183+08  2019-07-01 14:33:02.158104+08  \n",
       "3  2019-07-01 15:02:48.374339+08  2019-07-01 14:33:03.356418+08  \n",
       "4  2019-07-01 15:02:48.376721+08   2019-07-01 14:33:03.80116+08  "
      ]
     },
     "execution_count": 3,
     "metadata": {},
     "output_type": "execute_result"
    }
   ],
   "source": [
    "sample_data_original = pd.read_csv('/home/chenhao/quant/quant_sys/data/sample_data.csv')\n",
    "sample_data_original = sample_data_original[sample_data_original.period=='60min\\n']\n",
    "sample_data_original.head(5)"
   ]
  },
  {
   "cell_type": "code",
   "execution_count": 4,
   "metadata": {},
   "outputs": [
    {
     "data": {
      "text/html": [
       "<div>\n",
       "<style scoped>\n",
       "    .dataframe tbody tr th:only-of-type {\n",
       "        vertical-align: middle;\n",
       "    }\n",
       "\n",
       "    .dataframe tbody tr th {\n",
       "        vertical-align: top;\n",
       "    }\n",
       "\n",
       "    .dataframe thead th {\n",
       "        text-align: right;\n",
       "    }\n",
       "</style>\n",
       "<table border=\"1\" class=\"dataframe\">\n",
       "  <thead>\n",
       "    <tr style=\"text-align: right;\">\n",
       "      <th></th>\n",
       "      <th>stock_code</th>\n",
       "      <th>trade_time</th>\n",
       "      <th>open_price</th>\n",
       "      <th>high_price</th>\n",
       "      <th>low_price</th>\n",
       "      <th>close_price</th>\n",
       "      <th>vol</th>\n",
       "      <th>amount</th>\n",
       "    </tr>\n",
       "  </thead>\n",
       "  <tbody>\n",
       "    <tr>\n",
       "      <th>0</th>\n",
       "      <td>600127.SH</td>\n",
       "      <td>2019-06-28 14:00:00</td>\n",
       "      <td>4.98</td>\n",
       "      <td>4.99</td>\n",
       "      <td>4.91</td>\n",
       "      <td>4.93</td>\n",
       "      <td>3073500</td>\n",
       "      <td>15170306.0</td>\n",
       "    </tr>\n",
       "  </tbody>\n",
       "</table>\n",
       "</div>"
      ],
      "text/plain": [
       "  stock_code           trade_time  open_price  high_price  low_price  \\\n",
       "0  600127.SH  2019-06-28 14:00:00        4.98        4.99       4.91   \n",
       "\n",
       "   close_price      vol      amount  \n",
       "0         4.93  3073500  15170306.0  "
      ]
     },
     "execution_count": 4,
     "metadata": {},
     "output_type": "execute_result"
    }
   ],
   "source": [
    "sample_data = sample_data_original.drop(['id','_trade_time','period','gmt_modified','gmt_created'],axis=1)\n",
    "sample_data.head(1)"
   ]
  },
  {
   "cell_type": "code",
   "execution_count": 6,
   "metadata": {},
   "outputs": [
    {
     "data": {
      "text/html": [
       "<div>\n",
       "<style scoped>\n",
       "    .dataframe tbody tr th:only-of-type {\n",
       "        vertical-align: middle;\n",
       "    }\n",
       "\n",
       "    .dataframe tbody tr th {\n",
       "        vertical-align: top;\n",
       "    }\n",
       "\n",
       "    .dataframe thead th {\n",
       "        text-align: right;\n",
       "    }\n",
       "</style>\n",
       "<table border=\"1\" class=\"dataframe\">\n",
       "  <thead>\n",
       "    <tr style=\"text-align: right;\">\n",
       "      <th></th>\n",
       "      <th>stock_code</th>\n",
       "      <th>trade_time</th>\n",
       "      <th>open_price</th>\n",
       "      <th>high_price</th>\n",
       "      <th>low_price</th>\n",
       "      <th>close_price</th>\n",
       "      <th>vol</th>\n",
       "      <th>amount</th>\n",
       "    </tr>\n",
       "  </thead>\n",
       "  <tbody>\n",
       "    <tr>\n",
       "      <th>0</th>\n",
       "      <td>000503.SZ</td>\n",
       "      <td>2019-02-01 09:30:00</td>\n",
       "      <td>14.00</td>\n",
       "      <td>14.00</td>\n",
       "      <td>14.00</td>\n",
       "      <td>14.00</td>\n",
       "      <td>33600</td>\n",
       "      <td>470400.00</td>\n",
       "    </tr>\n",
       "    <tr>\n",
       "      <th>1</th>\n",
       "      <td>000503.SZ</td>\n",
       "      <td>2019-02-01 10:30:00</td>\n",
       "      <td>14.07</td>\n",
       "      <td>14.21</td>\n",
       "      <td>14.01</td>\n",
       "      <td>14.13</td>\n",
       "      <td>2636300</td>\n",
       "      <td>37202531.02</td>\n",
       "    </tr>\n",
       "    <tr>\n",
       "      <th>2</th>\n",
       "      <td>000503.SZ</td>\n",
       "      <td>2019-02-01 11:30:00</td>\n",
       "      <td>14.14</td>\n",
       "      <td>14.26</td>\n",
       "      <td>14.07</td>\n",
       "      <td>14.15</td>\n",
       "      <td>1768583</td>\n",
       "      <td>25092432.30</td>\n",
       "    </tr>\n",
       "    <tr>\n",
       "      <th>3</th>\n",
       "      <td>000503.SZ</td>\n",
       "      <td>2019-02-01 14:00:00</td>\n",
       "      <td>14.15</td>\n",
       "      <td>14.20</td>\n",
       "      <td>14.04</td>\n",
       "      <td>14.18</td>\n",
       "      <td>1333478</td>\n",
       "      <td>18820814.58</td>\n",
       "    </tr>\n",
       "    <tr>\n",
       "      <th>4</th>\n",
       "      <td>000503.SZ</td>\n",
       "      <td>2019-02-01 15:00:00</td>\n",
       "      <td>14.18</td>\n",
       "      <td>14.32</td>\n",
       "      <td>14.14</td>\n",
       "      <td>14.30</td>\n",
       "      <td>2732752</td>\n",
       "      <td>38919943.02</td>\n",
       "    </tr>\n",
       "    <tr>\n",
       "      <th>5</th>\n",
       "      <td>000503.SZ</td>\n",
       "      <td>2019-02-11 09:30:00</td>\n",
       "      <td>14.26</td>\n",
       "      <td>14.26</td>\n",
       "      <td>14.26</td>\n",
       "      <td>14.26</td>\n",
       "      <td>29668</td>\n",
       "      <td>423065.68</td>\n",
       "    </tr>\n",
       "    <tr>\n",
       "      <th>6</th>\n",
       "      <td>000503.SZ</td>\n",
       "      <td>2019-02-11 10:30:00</td>\n",
       "      <td>14.28</td>\n",
       "      <td>14.77</td>\n",
       "      <td>14.28</td>\n",
       "      <td>14.59</td>\n",
       "      <td>3586340</td>\n",
       "      <td>52228252.51</td>\n",
       "    </tr>\n",
       "    <tr>\n",
       "      <th>7</th>\n",
       "      <td>000503.SZ</td>\n",
       "      <td>2019-02-11 11:30:00</td>\n",
       "      <td>14.59</td>\n",
       "      <td>14.68</td>\n",
       "      <td>14.56</td>\n",
       "      <td>14.60</td>\n",
       "      <td>1304469</td>\n",
       "      <td>19066269.71</td>\n",
       "    </tr>\n",
       "    <tr>\n",
       "      <th>8</th>\n",
       "      <td>000503.SZ</td>\n",
       "      <td>2019-02-11 14:00:00</td>\n",
       "      <td>14.61</td>\n",
       "      <td>14.71</td>\n",
       "      <td>14.60</td>\n",
       "      <td>14.67</td>\n",
       "      <td>1128500</td>\n",
       "      <td>16545351.00</td>\n",
       "    </tr>\n",
       "    <tr>\n",
       "      <th>9</th>\n",
       "      <td>000503.SZ</td>\n",
       "      <td>2019-02-11 15:00:00</td>\n",
       "      <td>14.67</td>\n",
       "      <td>14.68</td>\n",
       "      <td>14.58</td>\n",
       "      <td>14.63</td>\n",
       "      <td>1874596</td>\n",
       "      <td>27442484.32</td>\n",
       "    </tr>\n",
       "  </tbody>\n",
       "</table>\n",
       "</div>"
      ],
      "text/plain": [
       "  stock_code           trade_time  open_price  high_price  low_price  \\\n",
       "0  000503.SZ  2019-02-01 09:30:00       14.00       14.00      14.00   \n",
       "1  000503.SZ  2019-02-01 10:30:00       14.07       14.21      14.01   \n",
       "2  000503.SZ  2019-02-01 11:30:00       14.14       14.26      14.07   \n",
       "3  000503.SZ  2019-02-01 14:00:00       14.15       14.20      14.04   \n",
       "4  000503.SZ  2019-02-01 15:00:00       14.18       14.32      14.14   \n",
       "5  000503.SZ  2019-02-11 09:30:00       14.26       14.26      14.26   \n",
       "6  000503.SZ  2019-02-11 10:30:00       14.28       14.77      14.28   \n",
       "7  000503.SZ  2019-02-11 11:30:00       14.59       14.68      14.56   \n",
       "8  000503.SZ  2019-02-11 14:00:00       14.61       14.71      14.60   \n",
       "9  000503.SZ  2019-02-11 15:00:00       14.67       14.68      14.58   \n",
       "\n",
       "   close_price      vol       amount  \n",
       "0        14.00    33600    470400.00  \n",
       "1        14.13  2636300  37202531.02  \n",
       "2        14.15  1768583  25092432.30  \n",
       "3        14.18  1333478  18820814.58  \n",
       "4        14.30  2732752  38919943.02  \n",
       "5        14.26    29668    423065.68  \n",
       "6        14.59  3586340  52228252.51  \n",
       "7        14.60  1304469  19066269.71  \n",
       "8        14.67  1128500  16545351.00  \n",
       "9        14.63  1874596  27442484.32  "
      ]
     },
     "execution_count": 6,
     "metadata": {},
     "output_type": "execute_result"
    }
   ],
   "source": [
    "sample_data = sample_data.sort_values(by=['stock_code','trade_time'])\n",
    "sample_data = sample_data.reset_index(drop=True)\n",
    "sample_data.head(10)"
   ]
  },
  {
   "cell_type": "code",
   "execution_count": 7,
   "metadata": {},
   "outputs": [
    {
     "data": {
      "text/plain": [
       "600256.SH    480\n",
       "600127.SH    480\n",
       "600125.SH    480\n",
       "000503.SZ    480\n",
       "Name: stock_code, dtype: int64"
      ]
     },
     "execution_count": 7,
     "metadata": {},
     "output_type": "execute_result"
    }
   ],
   "source": [
    "stock_code = sample_data['stock_code']\n",
    "cat_code = stock_code.astype('category')\n",
    "cat_code.value_counts()"
   ]
  },
  {
   "cell_type": "code",
   "execution_count": 9,
   "metadata": {},
   "outputs": [
    {
     "data": {
      "text/html": [
       "<div>\n",
       "<style scoped>\n",
       "    .dataframe tbody tr th:only-of-type {\n",
       "        vertical-align: middle;\n",
       "    }\n",
       "\n",
       "    .dataframe tbody tr th {\n",
       "        vertical-align: top;\n",
       "    }\n",
       "\n",
       "    .dataframe thead th {\n",
       "        text-align: right;\n",
       "    }\n",
       "</style>\n",
       "<table border=\"1\" class=\"dataframe\">\n",
       "  <thead>\n",
       "    <tr style=\"text-align: right;\">\n",
       "      <th></th>\n",
       "      <th>stock_code</th>\n",
       "      <th>trade_time</th>\n",
       "      <th>open_price</th>\n",
       "      <th>high_price</th>\n",
       "      <th>low_price</th>\n",
       "      <th>close_price</th>\n",
       "      <th>vol</th>\n",
       "      <th>amount</th>\n",
       "    </tr>\n",
       "  </thead>\n",
       "  <tbody>\n",
       "    <tr>\n",
       "      <th>478</th>\n",
       "      <td>000503.SZ</td>\n",
       "      <td>2019-06-28 14:00:00</td>\n",
       "      <td>17.18</td>\n",
       "      <td>17.19</td>\n",
       "      <td>16.83</td>\n",
       "      <td>16.91</td>\n",
       "      <td>3211483</td>\n",
       "      <td>54560546.60</td>\n",
       "    </tr>\n",
       "    <tr>\n",
       "      <th>479</th>\n",
       "      <td>000503.SZ</td>\n",
       "      <td>2019-06-28 15:00:00</td>\n",
       "      <td>16.91</td>\n",
       "      <td>17.19</td>\n",
       "      <td>16.89</td>\n",
       "      <td>17.16</td>\n",
       "      <td>1819038</td>\n",
       "      <td>31028417.16</td>\n",
       "    </tr>\n",
       "    <tr>\n",
       "      <th>480</th>\n",
       "      <td>600125.SH</td>\n",
       "      <td>2019-02-01 09:30:00</td>\n",
       "      <td>6.97</td>\n",
       "      <td>6.97</td>\n",
       "      <td>6.97</td>\n",
       "      <td>6.97</td>\n",
       "      <td>34200</td>\n",
       "      <td>242820.00</td>\n",
       "    </tr>\n",
       "    <tr>\n",
       "      <th>481</th>\n",
       "      <td>600125.SH</td>\n",
       "      <td>2019-02-01 10:30:00</td>\n",
       "      <td>6.97</td>\n",
       "      <td>6.98</td>\n",
       "      <td>6.92</td>\n",
       "      <td>6.96</td>\n",
       "      <td>2637271</td>\n",
       "      <td>18687760.00</td>\n",
       "    </tr>\n",
       "    <tr>\n",
       "      <th>482</th>\n",
       "      <td>600125.SH</td>\n",
       "      <td>2019-02-01 11:30:00</td>\n",
       "      <td>6.96</td>\n",
       "      <td>7.06</td>\n",
       "      <td>6.95</td>\n",
       "      <td>7.00</td>\n",
       "      <td>3070200</td>\n",
       "      <td>21864782.00</td>\n",
       "    </tr>\n",
       "  </tbody>\n",
       "</table>\n",
       "</div>"
      ],
      "text/plain": [
       "    stock_code           trade_time  open_price  high_price  low_price  \\\n",
       "478  000503.SZ  2019-06-28 14:00:00       17.18       17.19      16.83   \n",
       "479  000503.SZ  2019-06-28 15:00:00       16.91       17.19      16.89   \n",
       "480  600125.SH  2019-02-01 09:30:00        6.97        6.97       6.97   \n",
       "481  600125.SH  2019-02-01 10:30:00        6.97        6.98       6.92   \n",
       "482  600125.SH  2019-02-01 11:30:00        6.96        7.06       6.95   \n",
       "\n",
       "     close_price      vol       amount  \n",
       "478        16.91  3211483  54560546.60  \n",
       "479        17.16  1819038  31028417.16  \n",
       "480         6.97    34200    242820.00  \n",
       "481         6.96  2637271  18687760.00  \n",
       "482         7.00  3070200  21864782.00  "
      ]
     },
     "execution_count": 9,
     "metadata": {},
     "output_type": "execute_result"
    }
   ],
   "source": [
    "sample_data.iloc[478:483]"
   ]
  },
  {
   "cell_type": "code",
   "execution_count": 11,
   "metadata": {},
   "outputs": [
    {
     "data": {
      "text/html": [
       "<div>\n",
       "<style scoped>\n",
       "    .dataframe tbody tr th:only-of-type {\n",
       "        vertical-align: middle;\n",
       "    }\n",
       "\n",
       "    .dataframe tbody tr th {\n",
       "        vertical-align: top;\n",
       "    }\n",
       "\n",
       "    .dataframe thead th {\n",
       "        text-align: right;\n",
       "    }\n",
       "</style>\n",
       "<table border=\"1\" class=\"dataframe\">\n",
       "  <thead>\n",
       "    <tr style=\"text-align: right;\">\n",
       "      <th></th>\n",
       "      <th>stock_code</th>\n",
       "      <th>trade_time</th>\n",
       "      <th>open_price</th>\n",
       "      <th>high_price</th>\n",
       "      <th>low_price</th>\n",
       "      <th>close_price</th>\n",
       "      <th>vol</th>\n",
       "      <th>amount</th>\n",
       "    </tr>\n",
       "  </thead>\n",
       "  <tbody>\n",
       "    <tr>\n",
       "      <th>475</th>\n",
       "      <td>000503.SZ</td>\n",
       "      <td>2019-06-28 09:30:00</td>\n",
       "      <td>17.69</td>\n",
       "      <td>17.69</td>\n",
       "      <td>17.69</td>\n",
       "      <td>17.69</td>\n",
       "      <td>113600</td>\n",
       "      <td>2009492.00</td>\n",
       "    </tr>\n",
       "    <tr>\n",
       "      <th>476</th>\n",
       "      <td>000503.SZ</td>\n",
       "      <td>2019-06-28 10:30:00</td>\n",
       "      <td>17.63</td>\n",
       "      <td>17.79</td>\n",
       "      <td>17.38</td>\n",
       "      <td>17.44</td>\n",
       "      <td>3528129</td>\n",
       "      <td>62021392.13</td>\n",
       "    </tr>\n",
       "    <tr>\n",
       "      <th>477</th>\n",
       "      <td>000503.SZ</td>\n",
       "      <td>2019-06-28 11:30:00</td>\n",
       "      <td>17.45</td>\n",
       "      <td>17.50</td>\n",
       "      <td>17.11</td>\n",
       "      <td>17.18</td>\n",
       "      <td>2199881</td>\n",
       "      <td>37994350.17</td>\n",
       "    </tr>\n",
       "    <tr>\n",
       "      <th>478</th>\n",
       "      <td>000503.SZ</td>\n",
       "      <td>2019-06-28 14:00:00</td>\n",
       "      <td>17.18</td>\n",
       "      <td>17.19</td>\n",
       "      <td>16.83</td>\n",
       "      <td>16.91</td>\n",
       "      <td>3211483</td>\n",
       "      <td>54560546.60</td>\n",
       "    </tr>\n",
       "    <tr>\n",
       "      <th>479</th>\n",
       "      <td>000503.SZ</td>\n",
       "      <td>2019-06-28 15:00:00</td>\n",
       "      <td>16.91</td>\n",
       "      <td>17.19</td>\n",
       "      <td>16.89</td>\n",
       "      <td>17.16</td>\n",
       "      <td>1819038</td>\n",
       "      <td>31028417.16</td>\n",
       "    </tr>\n",
       "  </tbody>\n",
       "</table>\n",
       "</div>"
      ],
      "text/plain": [
       "    stock_code           trade_time  open_price  high_price  low_price  \\\n",
       "475  000503.SZ  2019-06-28 09:30:00       17.69       17.69      17.69   \n",
       "476  000503.SZ  2019-06-28 10:30:00       17.63       17.79      17.38   \n",
       "477  000503.SZ  2019-06-28 11:30:00       17.45       17.50      17.11   \n",
       "478  000503.SZ  2019-06-28 14:00:00       17.18       17.19      16.83   \n",
       "479  000503.SZ  2019-06-28 15:00:00       16.91       17.19      16.89   \n",
       "\n",
       "     close_price      vol       amount  \n",
       "475        17.69   113600   2009492.00  \n",
       "476        17.44  3528129  62021392.13  \n",
       "477        17.18  2199881  37994350.17  \n",
       "478        16.91  3211483  54560546.60  \n",
       "479        17.16  1819038  31028417.16  "
      ]
     },
     "execution_count": 11,
     "metadata": {},
     "output_type": "execute_result"
    }
   ],
   "source": [
    "one_sample = sample_data.iloc[0:480,:]\n",
    "one_sample.tail(5)"
   ]
  },
  {
   "cell_type": "code",
   "execution_count": 12,
   "metadata": {},
   "outputs": [
    {
     "data": {
      "text/plain": [
       "Text(0,0.5,'Close')"
      ]
     },
     "execution_count": 12,
     "metadata": {},
     "output_type": "execute_result"
    },
    {
     "data": {
      "image/png": "[encoded data removed]",
      "text/plain": [
       "<matplotlib.figure.Figure at 0x7f2f1c67ef98>"
      ]
     },
     "metadata": {
      "needs_background": "light"
     },
     "output_type": "display_data"
    }
   ],
   "source": [
    "close = one_sample.close_price\n",
    "plt.subplot(111)\n",
    "plt.plot(close,'k')\n",
    "plt.ylabel('Close')"
   ]
  },
  {
   "cell_type": "code",
   "execution_count": 17,
   "metadata": {},
   "outputs": [],
   "source": [
    "sma5 = pd.Series(0.0, index=close.index)\n",
    "for i in range(4,len(close)):\n",
    "    sma5[i] = sum(close[(i-4):(i+1)])/5\n",
    "    \n",
    "sma10 = pd.Series(0.0, index=close.index)\n",
    "for i in range(9,len(close)):\n",
    "    sma10[i] = sum(close[(i-9):(i+1)])/10"
   ]
  },
  {
   "cell_type": "code",
   "execution_count": 18,
   "metadata": {},
   "outputs": [
    {
     "data": {
      "text/plain": [
       "<matplotlib.legend.Legend at 0x7f2f1bda2668>"
      ]
     },
     "execution_count": 18,
     "metadata": {},
     "output_type": "execute_result"
    },
    {
     "data": {
      "image/png": "[encoded data removed]",
      "text/plain": [
       "<matplotlib.figure.Figure at 0x7f2f1bda2e80>"
      ]
     },
     "metadata": {
      "needs_background": "light"
     },
     "output_type": "display_data"
    }
   ],
   "source": [
    "plt.plot(close[4:],label='Close',color='g')\n",
    "plt.plot(sma5[4:],label='sma5',color='r',linestyle='dashed')\n",
    "plt.plot(sma10[9:],label='sma10',color='b')\n",
    "plt.legend()"
   ]
  },
  {
   "cell_type": "code",
   "execution_count": 23,
   "metadata": {},
   "outputs": [],
   "source": [
    "#指数移动平均\n",
    "# 计算EMA\n",
    "# alpha = 2/(N+1)\n",
    "# EMA(i) = (1 - alpha) * EMA(i-1) + alpha * CLOSE(i)\n",
    "\n",
    "def ema_cal(close_price, period=5, alpha=0.2):\n",
    "    import pandas as pd\n",
    "    import numpy as np\n",
    "    ema = pd.Series(0.0,index=close_price.index)\n",
    "    ema[period-1] = np.mean(close_price[:period])\n",
    "    for i in range(period,len(close_price)):\n",
    "        ema[i] = (1-alpha)*ema[i-1] + alpha * close_price[i]\n",
    "    return(ema)"
   ]
  },
  {
   "cell_type": "code",
   "execution_count": 24,
   "metadata": {},
   "outputs": [
    {
     "data": {
      "text/plain": [
       "RangeIndex(start=0, stop=480, step=1)"
      ]
     },
     "execution_count": 24,
     "metadata": {},
     "output_type": "execute_result"
    }
   ],
   "source": [
    "close.index"
   ]
  },
  {
   "cell_type": "code",
   "execution_count": 26,
   "metadata": {},
   "outputs": [
    {
     "data": {
      "text/plain": [
       "<matplotlib.legend.Legend at 0x7f2f1b8201d0>"
      ]
     },
     "execution_count": 26,
     "metadata": {},
     "output_type": "execute_result"
    },
    {
     "data": {
      "image/png": "[encoded data removed]",
      "text/plain": [
       "<matplotlib.figure.Figure at 0x7f2f1b8417f0>"
      ]
     },
     "metadata": {
      "needs_background": "light"
     },
     "output_type": "display_data"
    }
   ],
   "source": [
    "ema5 = ema_cal(close,5,0.2)\n",
    "# ema5.head()\n",
    "plt.plot(close[4:],label='Close',color='g')\n",
    "plt.plot(sma5[4:],label='sma5',color='r',linestyle='dashed')\n",
    "plt.plot(ema5[4:],label='ema5',color='b')\n",
    "plt.legend()"
   ]
  },
  {
   "cell_type": "code",
   "execution_count": 82,
   "metadata": {},
   "outputs": [
    {
     "data": {
      "text/html": [
       "<div>\n",
       "<style scoped>\n",
       "    .dataframe tbody tr th:only-of-type {\n",
       "        vertical-align: middle;\n",
       "    }\n",
       "\n",
       "    .dataframe tbody tr th {\n",
       "        vertical-align: top;\n",
       "    }\n",
       "\n",
       "    .dataframe thead th {\n",
       "        text-align: right;\n",
       "    }\n",
       "</style>\n",
       "<table border=\"1\" class=\"dataframe\">\n",
       "  <thead>\n",
       "    <tr style=\"text-align: right;\">\n",
       "      <th></th>\n",
       "      <th>Unnamed: 0</th>\n",
       "      <th>close</th>\n",
       "    </tr>\n",
       "    <tr>\n",
       "      <th>date</th>\n",
       "      <th></th>\n",
       "      <th></th>\n",
       "    </tr>\n",
       "  </thead>\n",
       "  <tbody>\n",
       "    <tr>\n",
       "      <th>2019-01-02 10:00:00</th>\n",
       "      <td>2019-01-02 10:00:00</td>\n",
       "      <td>16.66</td>\n",
       "    </tr>\n",
       "    <tr>\n",
       "      <th>2019-01-02 11:00:00</th>\n",
       "      <td>2019-01-02 11:00:00</td>\n",
       "      <td>16.65</td>\n",
       "    </tr>\n",
       "    <tr>\n",
       "      <th>2019-01-02 12:00:00</th>\n",
       "      <td>2019-01-02 12:00:00</td>\n",
       "      <td>16.62</td>\n",
       "    </tr>\n",
       "    <tr>\n",
       "      <th>2019-01-02 14:00:00</th>\n",
       "      <td>2019-01-02 14:00:00</td>\n",
       "      <td>16.70</td>\n",
       "    </tr>\n",
       "    <tr>\n",
       "      <th>2019-01-02 15:00:00</th>\n",
       "      <td>2019-01-02 15:00:00</td>\n",
       "      <td>16.70</td>\n",
       "    </tr>\n",
       "  </tbody>\n",
       "</table>\n",
       "</div>"
      ],
      "text/plain": [
       "                              Unnamed: 0  close\n",
       "date                                           \n",
       "2019-01-02 10:00:00  2019-01-02 10:00:00  16.66\n",
       "2019-01-02 11:00:00  2019-01-02 11:00:00  16.65\n",
       "2019-01-02 12:00:00  2019-01-02 12:00:00  16.62\n",
       "2019-01-02 14:00:00  2019-01-02 14:00:00  16.70\n",
       "2019-01-02 15:00:00  2019-01-02 15:00:00  16.70"
      ]
     },
     "execution_count": 82,
     "metadata": {},
     "output_type": "execute_result"
    }
   ],
   "source": [
    "xkgf = pd.read_csv('/home/chenhao/quant/quant_sys/data/601127.csv')\n",
    "xkgf['date'] = pd.to_datetime(xkgf['Unnamed: 0'])\n",
    "xkgf.set_index('date', inplace=True)\n",
    "xkgf.head(5)"
   ]
  },
  {
   "cell_type": "code",
   "execution_count": 56,
   "metadata": {},
   "outputs": [],
   "source": [
    "###计算MACD\n",
    "\n",
    "#短时\n",
    "short = 12\n",
    "#长时\n",
    "long = 26\n",
    "#diff的m值\n",
    "m = 9\n",
    "\n",
    "DIF = ema_cal(xkgf.close,12,2/(1+12)) - ema_cal(xkgf.close,26,2/(1+26))\n",
    "DEA = ema_cal(DIF,9,2/(1+9))\n",
    "\n",
    "MACD = DIF - DEA"
   ]
  },
  {
   "cell_type": "code",
   "execution_count": 125,
   "metadata": {},
   "outputs": [
    {
     "data": {
      "text/plain": [
       "<matplotlib.legend.Legend at 0x7f2f0c1aa5c0>"
      ]
     },
     "execution_count": 125,
     "metadata": {},
     "output_type": "execute_result"
    },
    {
     "data": {
      "image/png": "[encoded data removed]",
      "text/plain": [
       "<matplotlib.figure.Figure at 0x7f2f0c630518>"
      ]
     },
     "metadata": {
      "needs_background": "light"
     },
     "output_type": "display_data"
    }
   ],
   "source": [
    "MACD_sub = MACD[550:]*2\n",
    "\n",
    "plt.subplot(211)\n",
    "#plt.xticks(np.arange(len(DIF)-26,step=250))\n",
    "plt.plot(DIF[550:],'k',label='DIF')\n",
    "plt.plot(DEA[550:],label='DEA',color = 'b',linestyle='dashed')\n",
    "plt.legend()\n",
    "\n",
    "plt.subplot(212)\n",
    "#plt.tick_params(axis='x',which='major',labelsize=5,width=50)\n",
    "plt.gcf().autofmt_xdate()\n",
    "plt.xticks(np.arange(0,len(MACD_sub),step=65))\n",
    "plt.bar(left=MACD_sub.index,height=MACD_sub,label='MACD',color='r')\n",
    "plt.legend()\n",
    "\n"
   ]
  },
  {
   "cell_type": "code",
   "execution_count": 133,
   "metadata": {},
   "outputs": [
    {
     "data": {
      "text/plain": [
       "2019-06-10 10:00:00    0.014318\n",
       "2019-06-10 11:00:00    0.023770\n",
       "2019-06-10 12:00:00    0.032147\n",
       "2019-06-10 14:00:00    0.023384\n",
       "2019-06-10 15:00:00    0.015132\n",
       "2019-06-11 10:00:00    0.004409\n",
       "2019-06-11 11:00:00    0.010557\n",
       "2019-06-11 12:00:00    0.013531\n",
       "2019-06-11 14:00:00    0.020712\n",
       "2019-06-11 15:00:00    0.023085\n",
       "2019-06-12 10:00:00    0.028012\n",
       "2019-06-12 11:00:00    0.026559\n",
       "2019-06-12 12:00:00    0.024952\n",
       "2019-06-12 14:00:00    0.023276\n",
       "2019-06-12 15:00:00    0.017124\n",
       "2019-06-13 10:00:00    0.009088\n",
       "2019-06-13 11:00:00    0.007292\n",
       "2019-06-13 12:00:00    0.011400\n",
       "2019-06-13 14:00:00    0.011945\n",
       "2019-06-13 15:00:00    0.011480\n",
       "2019-06-14 10:00:00   -0.036209\n",
       "2019-06-14 11:00:00   -0.043267\n",
       "2019-06-14 12:00:00   -0.041620\n",
       "2019-06-14 14:00:00   -0.021745\n",
       "2019-06-14 15:00:00   -0.001010\n",
       "2019-06-17 10:00:00    0.021093\n",
       "2019-06-17 11:00:00    0.034551\n",
       "2019-06-17 12:00:00    0.043721\n",
       "2019-06-17 14:00:00    0.050262\n",
       "2019-06-17 15:00:00    0.053419\n",
       "                         ...   \n",
       "2019-06-28 10:00:00   -0.033800\n",
       "2019-06-28 11:00:00   -0.027058\n",
       "2019-06-28 12:00:00   -0.026030\n",
       "2019-06-28 14:00:00   -0.013901\n",
       "2019-06-28 15:00:00   -0.006904\n",
       "2019-07-01 10:00:00   -0.000923\n",
       "2019-07-01 11:00:00    0.013683\n",
       "2019-07-01 12:00:00    0.018220\n",
       "2019-07-01 14:00:00    0.013613\n",
       "2019-07-01 15:00:00    0.016250\n",
       "2019-07-02 10:00:00    0.023251\n",
       "2019-07-02 11:00:00    0.015976\n",
       "2019-07-02 12:00:00    0.009670\n",
       "2019-07-02 14:00:00    0.001088\n",
       "2019-07-02 15:00:00   -0.004643\n",
       "2019-07-03 10:00:00   -0.021039\n",
       "2019-07-03 11:00:00   -0.031088\n",
       "2019-07-03 12:00:00   -0.033370\n",
       "2019-07-03 14:00:00   -0.026120\n",
       "2019-07-03 15:00:00   -0.028534\n",
       "2019-07-04 10:00:00   -0.018305\n",
       "2019-07-04 11:00:00   -0.010219\n",
       "2019-07-04 12:00:00   -0.004516\n",
       "2019-07-04 14:00:00    0.001959\n",
       "2019-07-04 15:00:00    0.002191\n",
       "2019-07-05 10:00:00   -0.006612\n",
       "2019-07-05 11:00:00   -0.009115\n",
       "2019-07-05 12:00:00   -0.004963\n",
       "2019-07-05 14:00:00   -0.000039\n",
       "2019-07-05 15:00:00    0.005751\n",
       "Length: 100, dtype: float64"
      ]
     },
     "execution_count": 133,
     "metadata": {},
     "output_type": "execute_result"
    }
   ],
   "source": [
    "#每天5个,20天\n",
    "macd_sub = MACD.tail(100)\n",
    "macd_sub"
   ]
  },
  {
   "cell_type": "code",
   "execution_count": null,
   "metadata": {},
   "outputs": [],
   "source": []
  }
 ],
 "metadata": {
  "kernelspec": {
   "display_name": "Python 3",
   "language": "python",
   "name": "python3"
  },
  "language_info": {
   "codemirror_mode": {
    "name": "ipython",
    "version": 3
   },
   "file_extension": ".py",
   "mimetype": "text/x-python",
   "name": "python",
   "nbconvert_exporter": "python",
   "pygments_lexer": "ipython3",
   "version": "3.7.2"
  }
 },
 "nbformat": 4,
 "nbformat_minor": 2
}
